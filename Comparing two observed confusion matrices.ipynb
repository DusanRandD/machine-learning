{
 "cells": [
  {
   "cell_type": "markdown",
   "metadata": {},
   "source": [
    "# Methods for comparing two observed confusion matrices\n",
    "\n",
    "This notebook implements tests for two observed confusion matrices to evaluate two assignation procedures.\n",
    "\n",
    "The notebook implementation is based on a paper: José Rodríguez-Avi, Francisco Javier Ariza-López, Mª Virtudes Alba-Fernández - Methods for comparing two observed confusion matrices, Proceedings 2018, The 21st AGILE International Conference on Geographic Information Science [download link](https://agile-online.org/conference_paper/cds/agile_2018/posters/96%20Poster%2096.pdf)\n",
    "\n",
    "Python implementation by Nikola Mirkov (largeddysimulation@gmail.com)"
   ]
  },
  {
   "cell_type": "markdown",
   "metadata": {},
   "source": [
    "### Enter two confusion matrices by hand for this example"
   ]
  },
  {
   "cell_type": "code",
   "execution_count": 2,
   "metadata": {},
   "outputs": [
    {
     "name": "stdout",
     "output_type": "stream",
     "text": [
      "[[ 96   1  36   1   0   0  15   1   9  11]\n",
      " [  1 157   1   0   0   1   1   4   0   5]\n",
      " [ 35   1 116   3   2   0   6   1   0   6]\n",
      " [  0   0   0 120  29  12   0   2   7   0]\n",
      " [  4   0   6   1 140  18   0   0   0   1]\n",
      " [ 14   0  16   0  16 120   0   0   0   4]\n",
      " [  4   0  11   0   1   0 142   7   0   5]\n",
      " [  0   2   0   0   0   0  47 118   0   3]\n",
      " [  0   0   0  11   0   1   0   1 157   0]\n",
      " [  3   1  10   6   3   1  12  13   2 119]]\n"
     ]
    }
   ],
   "source": [
    "import numpy as np\n",
    "DL = np.array([[96,1,36,1,0,0,15,1,9,11],[1,157,1,0,0,1,1,4,0,5],[35,1,116,3,2,0,6,1,0,6],[0,0,0,120,29,12,0,2,7,0],[4,0,6,1,140,18,0,0,0,1],[14,0,16,0,16,120,0,0,0,4],[4,0,11,0,1,0,142,7,0,5],[0,2,0,0,0,0,47,118,0,3],[0,0,0,11,0,1,0,1,157,0],[3,1,10,6,3,1,12,13,2,119]])\n",
    "print(DL)"
   ]
  },
  {
   "cell_type": "code",
   "execution_count": 3,
   "metadata": {},
   "outputs": [
    {
     "name": "stdout",
     "output_type": "stream",
     "text": [
      "[[ 93   0  27   0   0   2  18   4  13  13]\n",
      " [  0 160   0   0   0   0   2   4   0   4]\n",
      " [ 25   0 122   2   0   4   6   3   0   8]\n",
      " [  0   0   0 119  21  19   0   0   9   2]\n",
      " [  0   0   3   0 124  33   2   0   0   8]\n",
      " [  0   0   0   0  38 125   0   0   0   7]\n",
      " [  0   0  21   0   2   0 125   2   0  20]\n",
      " [  0   0   1   0   0   0  48 118   0   3]\n",
      " [  0   0   0   5   0   0   0   0 164   1]\n",
      " [  0   0   2   4   2   2   7  21   2 130]]\n"
     ]
    }
   ],
   "source": [
    "RF = np.array([[93,0,27,0,0,2,18,4,13,13],[0,160,0,0,0,0,2,4,0,4],[25,0,122,2,0,4,6,3,0,8],[0,0,0,119,21,19,0,0,9,2],[0,0,3,0,124,33,2,0,0,8],[0,0,0,0,38,125,0,0,0,7],[0,0,21,0,2,0,125,2,0,20],[0,0,1,0,0,0,48,118,0,3],[0,0,0,5,0,0,0,0,164,1],[0,0,2,4,2,2,7,21,2,130]])\n",
    "print(RF)"
   ]
  },
  {
   "cell_type": "markdown",
   "metadata": {},
   "source": [
    "### Create a class for confusion matrix comparison"
   ]
  },
  {
   "cell_type": "code",
   "execution_count": 4,
   "metadata": {},
   "outputs": [],
   "source": [
    "import numpy as np\n",
    "import scipy.stats as sps\n",
    "import matplotlib.pyplot as plt\n",
    "\n",
    "class confmatcomp:\n",
    "    '''\n",
    "    Purpose:\n",
    "    A class implementing confusion matrix comparison.\n",
    "    \n",
    "    Desription:\n",
    "    You need to give two matrices as input argument and run various tests\n",
    "    implemented as methods of the class.\n",
    "    \n",
    "    Implemented test methods are:\n",
    "    1) Single binomial contrast (called by: Test_instance_name.single_binomial_contrast(args) )\n",
    "    2) Mutiple binomial contrast (called by: Test_instance_name.multiple_binomials_contrast(args) )\n",
    "    3) Overall chi-square test (called by Test_instance_name.chi_square(args))\n",
    "    \n",
    "    Reference: \n",
    "    J. Rodrigues-Avi et al., \"Methods for comparing two observed conusion matrices\",...(201X)\n",
    "    \n",
    "    '''\n",
    "    def __init__(self, MatA:np.array, MatB:np.array):\n",
    "        self.A = MatA\n",
    "        self.B = MatB\n",
    "        \n",
    "    def get_nm(self):\n",
    "        n = np.sum(self.A[:,:])\n",
    "        m = np.sum(self.B[:,:])\n",
    "        print(\"Total number of elements classified in A: {}, and B: {}\".format(n,m) )\n",
    "        \n",
    "    def single_binomial_contrast(self,tol):\n",
    "        '''\n",
    "        Purpose:\n",
    "        This test compares the global proportion of \n",
    "        concordant elements in both classifications.\n",
    "        Null hypothesis is that these two proportions are the same.\n",
    "           \n",
    "        Arguments:\n",
    "        tol (input) - tolerance level for rejection of null hypothesis.\n",
    "        '''\n",
    "        print(\"Null hypothesis is that these two proportions are the same.\")\n",
    "        n = np.sum(self.A[:,:])\n",
    "        piA = sum(np.diag(self.A))/float(n)\n",
    "        print(\"Concordant elements proportion in 1st matrix: {:.6f}\".format(piA) )\n",
    "        m = np.sum(self.B[:,:])\n",
    "        piB = sum(np.diag(self.B))/float(m)\n",
    "        print(\"Concordant elements proportion in 2nd matrix: {:.6f}\".format(piB) )\n",
    "        if ( piA-piB < tol ):\n",
    "            print(\"Global proportion of concordant elements is the same!\")\n",
    "        else:\n",
    "            print(\"Global proportion of concordant elements differs by: {}, \\nNull hypothesis rejected!\". \n",
    "                  format( abs(piA-piB) ) ) \n",
    "            \n",
    "    def multiple_binomials_contrast(self, tol, column=True):\n",
    "        '''\n",
    "        Function: multiple_binomials_contrast\n",
    "        \n",
    "        Purpose:\n",
    "        This test makes individual tests by rows or columns.\n",
    "        Default is test by columns.\n",
    "           \n",
    "        Description:\n",
    "        We split problem into k-null hypotheses.\n",
    "        Then we find Z estimator and fit it to normal distribution.\n",
    "        After that k p-values are obtained, where k is the matrix size.\n",
    "        p-values are then corrected using Bonferonni's correction to assure\n",
    "        Type I error level.\n",
    "           \n",
    "        Arguments:\n",
    "        tol - tolerance for pairwise comparison (eg. tol=1e-6)\n",
    "        column - (optional) True/False, if true column-wise estimators\n",
    "        are produced, if false rwo-wise estimators are produced.\n",
    "        '''\n",
    "        k = self.A.shape[1]\n",
    "        Z = np.zeros(k)\n",
    "        if(column):\n",
    "            print(\"\\nColumn-wise estimators for 1st and 2nd matrix and k-th null hypothesis testing:\\n\")\n",
    "            for j in range( k ):\n",
    "                n_plj = np.sum( self.A[:,j] )\n",
    "                piAj = self.A[j,j] / float(n_plj)\n",
    "                m_plj = np.sum( self.B[:,j] )\n",
    "                piBj = self.B[j,j] / float(m_plj)            \n",
    "                print( \"Column {} : {} {} {}\". format(j, piAj, piBj, (abs(piAj-piBj)<tol) ) )\n",
    "                Z[j] = (piAj-piBj)/np.sqrt( piAj*(1-piAj)/ float(n_plj) + piBj*(1-piBj)/ float(m_plj) )\n",
    "        else:\n",
    "            print(\"\\nRow-wise estimators for 1st and 2nd matrix and k-th null hypothesis testing:\\n\")\n",
    "            for j in range( k ):\n",
    "                n_plj = np.sum( self.A[j,:] )\n",
    "                piAj = self.A[j,j] / float(n_plj)\n",
    "                m_plj = np.sum( self.B[j,:] )\n",
    "                piBj = self.B[j,j] / float(m_plj)            \n",
    "                print( \"Row {} : {} {} {}\". format(j, piAj, piBj, (abs(piAj-piBj)<tol) ) )\n",
    "                Z[j] = (piAj-piBj)/np.sqrt( piAj*(1-piAj)/ float(n_plj) + piBj*(1-piBj)/ float(m_plj) )\n",
    "        #print(Z)\n",
    "        mu, std = sps.norm.fit(Z)\n",
    "        #print(mu,std)\n",
    "        # Plot distribution\n",
    "        plt.hist(Z, bins = 5, density=True, alpha=0.8, color='b')\n",
    "        # Plot PDF of normal distribution\n",
    "        xmin, xmax = plt.xlim()\n",
    "        x = np.linspace(xmin,xmax, 100)\n",
    "        p = sps.norm.pdf(x, mu, std)\n",
    "        plt.plot(x, p, 'k', linewidth=1)\n",
    "        title = \"Fit results for Z-vector: mu=%.3f, std=%.3f\" % (mu,std)\n",
    "        plt.title(title)\n",
    "        plt.show()\n",
    "        \n",
    "        # Cumulative distribution for the test statistics\n",
    "        cdfts = sps.norm.cdf( abs(Z) )\n",
    "        pval = 2*(1-cdfts) # p-value for two-sided test\n",
    "        pvalcorr = pval/k  # Bonferonni's correction\n",
    "        print(\"\\nk p-values and Bonferonni's correction:\\n\")\n",
    "        for j in range(k):\n",
    "            print(\"{} : {:.4f} {:.4f}\".format(j, pval[j], pvalcorr[j]))\n",
    "            \n",
    "    def chi_square(self,column=True):\n",
    "        '''\n",
    "        Purpose:\n",
    "        Peform overall chi-square test.\n",
    "        \n",
    "        Desription:\n",
    "        Performs a chis-aquare test on sqare of Z vector obtained in \n",
    "        the way described in multiple_binomials_contrast test.\n",
    "        This vector follows Chi-squared distribution.\n",
    "        If observed statistics doesn't obey this - the Null hypothesis\n",
    "        of whole equality of given confusion matrices is rejected.\n",
    "        Further inquiry may give rejection causes.\n",
    "        \n",
    "        Arguments:\n",
    "        column - (optional) True/False, if true column-wise estimators\n",
    "        are produced, if false rwo-wise estimators are produced.\n",
    "        '''\n",
    "        k = self.A.shape[1]\n",
    "        Z = np.zeros(k)\n",
    "        if(column):\n",
    "            #print(\"\\nColumn-wise estimators for 1st and 2nd matrix and k-th null hypothesis testing:\\n\")\n",
    "            for j in range( k ):\n",
    "                n_plj = np.sum( self.A[:,j] )\n",
    "                piAj = self.A[j,j] / float(n_plj)\n",
    "                m_plj = np.sum( self.B[:,j] )\n",
    "                piBj = self.B[j,j] / float(m_plj)            \n",
    "                #print( \"Column {} : {} {} {}\". format(j, piAj, piBj, (abs(piAj-piBj)<tol) ) )\n",
    "                Z[j] = (piAj-piBj)/np.sqrt( piAj*(1-piAj)/ float(n_plj) + piBj*(1-piBj)/ float(m_plj) )\n",
    "        else:\n",
    "            #print(\"\\nRow-wise estimators for 1st and 2nd matrix and k-th null hypothesis testing:\\n\")\n",
    "            for j in range( k ):\n",
    "                n_plj = np.sum( self.A[j,:] )\n",
    "                piAj = self.A[j,j] / float(n_plj)\n",
    "                m_plj = np.sum( self.B[j,:] )\n",
    "                piBj = self.B[j,j] / float(m_plj)            \n",
    "                #print( \"Row {} : {} {} {}\". format(j, piAj, piBj, (abs(piAj-piBj)<tol) ) )\n",
    "                Z[j] = (piAj-piBj)/np.sqrt( piAj*(1-piAj)/ float(n_plj) + piBj*(1-piBj)/ float(m_plj) )\n",
    "        \n",
    "        #Z-squared:\n",
    "        Zsq = Z*Z\n",
    "        chisq, pval = sps.chisquare(Zsq)\n",
    "        print(\"Chi-squred test statistic: {:.3f}, p-value of the test: {:.6f}\".format(chisq,pval))\n",
    "    \n",
    "    def multinomial_distance_bootstrap(self):\n",
    "        '''\n",
    "        Purpose:\n",
    "        Peform multinomial distance bootstrap test.\n",
    "        \n",
    "        Desription:\n",
    "        Obtain vectors from confusion matrices and estimate distance \n",
    "        between these vectors.\n",
    "        \n",
    "        Arguments:\n",
    "\n",
    "        '''\n",
    "        a = (self.A).flatten()\n",
    "        b = (self.B).flatten()\n",
    "        dist = np.sum( (np.sqrt(a)-np.sqrt(b))**2 )\n",
    "        n = np.sum(self.A[:,:])\n",
    "        m = np.sum(self.B[:,:])\n",
    "        Tnm = 4*(n+m)*dist\n",
    "        print( \"Estimate distance between vectors: {:.6f}, {:.6f}\".format(dist,Tnm) )        \n",
    "        \n",
    "        "
   ]
  },
  {
   "cell_type": "code",
   "execution_count": 5,
   "metadata": {},
   "outputs": [
    {
     "name": "stdout",
     "output_type": "stream",
     "text": [
      "\n",
      "    Purpose:\n",
      "    A class implementing confusion matrix comparison.\n",
      "    \n",
      "    Desription:\n",
      "    You need to give two matrices as input argument and run various tests\n",
      "    implemented as methods of the class.\n",
      "    \n",
      "    Implemented test methods are:\n",
      "    1) Single binomial contrast (called by: Test_instance_name.single_binomial_contrast(args) )\n",
      "    2) Mutiple binomial contrast (called by: Test_instance_name.multiple_binomials_contrast(args) )\n",
      "    3) Overall chi-square test (called by Test_instance_name.chi_square(args))\n",
      "    \n",
      "    Reference: \n",
      "    J. Rodrigues-Avi et al., \"Methods for comparing two observed conusion matrices\",...(201X)\n",
      "    \n",
      "    \n",
      "\n",
      "        Function: multiple_binomials_contrast\n",
      "        \n",
      "        Purpose:\n",
      "        This test makes individual tests by rows or columns.\n",
      "        Default is test by columns.\n",
      "           \n",
      "        Description:\n",
      "        We split problem into k-null hypotheses.\n",
      "        Then we find Z estimator and fit it to normal distribution.\n",
      "        After that k p-values are obtained, where k is the matrix size.\n",
      "        p-values are then corrected using Bonferonni's correction to assure\n",
      "        Type I error level.\n",
      "           \n",
      "        Arguments:\n",
      "        tol - tolerance for pairwise comparison (eg. tol=1e-6)\n",
      "        column - (optional) True/False, if true column-wise estimators\n",
      "        are produced, if false rwo-wise estimators are produced.\n",
      "        \n"
     ]
    }
   ],
   "source": [
    "Test = confmatcomp(DL,RF)\n",
    "print(Test.__doc__)\n",
    "print(Test.multiple_binomials_contrast.__doc__)"
   ]
  },
  {
   "cell_type": "code",
   "execution_count": 6,
   "metadata": {},
   "outputs": [
    {
     "name": "stdout",
     "output_type": "stream",
     "text": [
      "Total number of elements classified in A: 1700, and B: 1700\n"
     ]
    }
   ],
   "source": [
    "Test.get_nm()"
   ]
  },
  {
   "cell_type": "markdown",
   "metadata": {},
   "source": [
    "#### A single binomial contrast test"
   ]
  },
  {
   "cell_type": "code",
   "execution_count": 7,
   "metadata": {},
   "outputs": [
    {
     "name": "stdout",
     "output_type": "stream",
     "text": [
      "Null hypothesis is that these two proportions are the same.\n",
      "Concordant elements proportion in 1st matrix: 0.755882\n",
      "Concordant elements proportion in 2nd matrix: 0.752941\n",
      "Global proportion of concordant elements differs by: 0.002941176470588225, \n",
      "Null hypothesis rejected!\n"
     ]
    }
   ],
   "source": [
    "tolerance = 1e-6\n",
    "Test.single_binomial_contrast(tolerance)"
   ]
  },
  {
   "cell_type": "code",
   "execution_count": 8,
   "metadata": {},
   "outputs": [
    {
     "name": "stdout",
     "output_type": "stream",
     "text": [
      "\n",
      "Column-wise estimators for 1st and 2nd matrix and k-th null hypothesis testing:\n",
      "\n",
      "Column 0 : 0.6114649681528662 0.788135593220339 False\n",
      "Column 1 : 0.9691358024691358 1.0 False\n",
      "Column 2 : 0.5918367346938775 0.6931818181818182 False\n",
      "Column 3 : 0.8450704225352113 0.9153846153846154 False\n",
      "Column 4 : 0.7329842931937173 0.6631016042780749 False\n",
      "Column 5 : 0.7843137254901961 0.6756756756756757 False\n",
      "Column 6 : 0.6367713004484304 0.6009615384615384 False\n",
      "Column 7 : 0.8027210884353742 0.7763157894736842 False\n",
      "Column 8 : 0.8971428571428571 0.8723404255319149 False\n",
      "Column 9 : 0.7727272727272727 0.6632653061224489 False\n"
     ]
    },
    {
     "data": {
      "image/png": "[encoded data removed]",
      "text/plain": [
       "<Figure size 432x288 with 1 Axes>"
      ]
     },
     "metadata": {
      "needs_background": "light"
     },
     "output_type": "display_data"
    },
    {
     "name": "stdout",
     "output_type": "stream",
     "text": [
      "\n",
      "k p-values and Bonferonni's correction:\n",
      "\n",
      "0 : 0.0011 0.0001\n",
      "1 : 0.0231 0.0023\n",
      "2 : 0.0402 0.0040\n",
      "3 : 0.0711 0.0071\n",
      "4 : 0.1380 0.0138\n",
      "5 : 0.0232 0.0023\n",
      "6 : 0.4442 0.0444\n",
      "7 : 0.5752 0.0575\n",
      "8 : 0.4586 0.0459\n",
      "9 : 0.0219 0.0022\n",
      "\n",
      "Row-wise estimators for 1st and 2nd matrix and k-th null hypothesis testing:\n",
      "\n",
      "Row 0 : 0.5647058823529412 0.5470588235294118 False\n",
      "Row 1 : 0.9235294117647059 0.9411764705882353 False\n",
      "Row 2 : 0.6823529411764706 0.7176470588235294 False\n",
      "Row 3 : 0.7058823529411765 0.7 False\n",
      "Row 4 : 0.8235294117647058 0.7294117647058823 False\n",
      "Row 5 : 0.7058823529411765 0.7352941176470589 False\n",
      "Row 6 : 0.8352941176470589 0.7352941176470589 False\n",
      "Row 7 : 0.6941176470588235 0.6941176470588235 True\n",
      "Row 8 : 0.9235294117647059 0.9647058823529412 False\n",
      "Row 9 : 0.7 0.7647058823529411 False\n"
     ]
    },
    {
     "data": {
      "image/png": "[encoded data removed]",
      "text/plain": [
       "<Figure size 432x288 with 1 Axes>"
      ]
     },
     "metadata": {
      "needs_background": "light"
     },
     "output_type": "display_data"
    },
    {
     "name": "stdout",
     "output_type": "stream",
     "text": [
      "\n",
      "k p-values and Bonferonni's correction:\n",
      "\n",
      "0 : 0.7433 0.0743\n",
      "1 : 0.5168 0.0517\n",
      "2 : 0.4773 0.0477\n",
      "3 : 0.9055 0.0906\n",
      "4 : 0.0361 0.0036\n",
      "5 : 0.5454 0.0545\n",
      "6 : 0.0237 0.0024\n",
      "7 : 1.0000 0.1000\n",
      "8 : 0.0970 0.0097\n",
      "9 : 0.1767 0.0177\n"
     ]
    }
   ],
   "source": [
    "Test.multiple_binomials_contrast(tolerance)\n",
    "\n",
    "Test.multiple_binomials_contrast(tolerance,column=False)"
   ]
  },
  {
   "cell_type": "markdown",
   "metadata": {},
   "source": [
    "#### Overall chi-square test"
   ]
  },
  {
   "cell_type": "code",
   "execution_count": 9,
   "metadata": {},
   "outputs": [
    {
     "name": "stdout",
     "output_type": "stream",
     "text": [
      "Chi-squred test statistic: 23.799, p-value of the test: 0.004631\n"
     ]
    }
   ],
   "source": [
    "Test.chi_square()"
   ]
  },
  {
   "cell_type": "markdown",
   "metadata": {},
   "source": [
    "#### Multinomial distance bootstrap test"
   ]
  },
  {
   "cell_type": "code",
   "execution_count": 10,
   "metadata": {},
   "outputs": [
    {
     "name": "stdout",
     "output_type": "stream",
     "text": [
      "Estimate distance between vectors: 101.997250, 1387162.600888\n"
     ]
    }
   ],
   "source": [
    "Test.multinomial_distance_bootstrap()"
   ]
  },
  {
   "cell_type": "code",
   "execution_count": null,
   "metadata": {},
   "outputs": [],
   "source": []
  }
 ],
 "metadata": {
  "kernelspec": {
   "display_name": "Python 3",
   "language": "python",
   "name": "python3"
  },
  "language_info": {
   "codemirror_mode": {
    "name": "ipython",
    "version": 3
   },
   "file_extension": ".py",
   "mimetype": "text/x-python",
   "name": "python",
   "nbconvert_exporter": "python",
   "pygments_lexer": "ipython3",
   "version": "3.7.4"
  }
 },
 "nbformat": 4,
 "nbformat_minor": 4
}
